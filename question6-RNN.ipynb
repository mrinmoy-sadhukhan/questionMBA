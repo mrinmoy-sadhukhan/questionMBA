{
 "cells": [
  {
   "attachments": {},
   "cell_type": "markdown",
   "id": "a8114044",
   "metadata": {},
   "source": [
    "Question 1: Consider the iris data file seeds.csv. \n",
    "A. Import the file to python\n",
    "B. Perform pre processing\n",
    "C. Divide the data set in 80% training and 20% testing\n",
    "D. Select the RNN Neural Network\n",
    "E. Perform the training of the model\n",
    "F. Test the model with test data\n",
    "G. Evaluate the performance of your model\n"
   ]
  },
  {
   "cell_type": "code",
   "execution_count": 1,
   "id": "f09a342b",
   "metadata": {},
   "outputs": [],
   "source": [
    "import pandas as pd\n",
    "# used to read the data set\n",
    "import numpy as np\n",
    "# used to do some operations with the arrays\n",
    "import os\n",
    "# used handle some files\n"
   ]
  },
  {
   "cell_type": "code",
   "execution_count": 2,
   "id": "9b068d8f",
   "metadata": {},
   "outputs": [],
   "source": [
    "df = pd.read_csv(\"Iris.csv\")"
   ]
  },
  {
   "cell_type": "code",
   "execution_count": 3,
   "id": "da9d1c2a",
   "metadata": {},
   "outputs": [],
   "source": [
    "df = pd.read_csv(\"Iris.csv\")"
   ]
  },
  {
   "cell_type": "code",
   "execution_count": 4,
   "id": "243db683",
   "metadata": {},
   "outputs": [
    {
     "data": {
      "text/html": [
       "<div>\n",
       "<style scoped>\n",
       "    .dataframe tbody tr th:only-of-type {\n",
       "        vertical-align: middle;\n",
       "    }\n",
       "\n",
       "    .dataframe tbody tr th {\n",
       "        vertical-align: top;\n",
       "    }\n",
       "\n",
       "    .dataframe thead th {\n",
       "        text-align: right;\n",
       "    }\n",
       "</style>\n",
       "<table border=\"1\" class=\"dataframe\">\n",
       "  <thead>\n",
       "    <tr style=\"text-align: right;\">\n",
       "      <th></th>\n",
       "      <th>Id</th>\n",
       "      <th>SepalLengthCm</th>\n",
       "      <th>SepalWidthCm</th>\n",
       "      <th>PetalLengthCm</th>\n",
       "      <th>PetalWidthCm</th>\n",
       "      <th>Species</th>\n",
       "    </tr>\n",
       "  </thead>\n",
       "  <tbody>\n",
       "    <tr>\n",
       "      <th>0</th>\n",
       "      <td>1</td>\n",
       "      <td>5.1</td>\n",
       "      <td>3.5</td>\n",
       "      <td>1.4</td>\n",
       "      <td>0.2</td>\n",
       "      <td>0</td>\n",
       "    </tr>\n",
       "    <tr>\n",
       "      <th>1</th>\n",
       "      <td>2</td>\n",
       "      <td>4.9</td>\n",
       "      <td>3.0</td>\n",
       "      <td>1.4</td>\n",
       "      <td>0.2</td>\n",
       "      <td>0</td>\n",
       "    </tr>\n",
       "    <tr>\n",
       "      <th>2</th>\n",
       "      <td>3</td>\n",
       "      <td>4.7</td>\n",
       "      <td>3.2</td>\n",
       "      <td>1.3</td>\n",
       "      <td>0.2</td>\n",
       "      <td>0</td>\n",
       "    </tr>\n",
       "    <tr>\n",
       "      <th>3</th>\n",
       "      <td>4</td>\n",
       "      <td>4.6</td>\n",
       "      <td>3.1</td>\n",
       "      <td>1.5</td>\n",
       "      <td>0.2</td>\n",
       "      <td>0</td>\n",
       "    </tr>\n",
       "    <tr>\n",
       "      <th>4</th>\n",
       "      <td>5</td>\n",
       "      <td>5.0</td>\n",
       "      <td>3.6</td>\n",
       "      <td>1.4</td>\n",
       "      <td>0.2</td>\n",
       "      <td>0</td>\n",
       "    </tr>\n",
       "    <tr>\n",
       "      <th>...</th>\n",
       "      <td>...</td>\n",
       "      <td>...</td>\n",
       "      <td>...</td>\n",
       "      <td>...</td>\n",
       "      <td>...</td>\n",
       "      <td>...</td>\n",
       "    </tr>\n",
       "    <tr>\n",
       "      <th>95</th>\n",
       "      <td>96</td>\n",
       "      <td>5.7</td>\n",
       "      <td>3.0</td>\n",
       "      <td>4.2</td>\n",
       "      <td>1.2</td>\n",
       "      <td>1</td>\n",
       "    </tr>\n",
       "    <tr>\n",
       "      <th>96</th>\n",
       "      <td>97</td>\n",
       "      <td>5.7</td>\n",
       "      <td>2.9</td>\n",
       "      <td>4.2</td>\n",
       "      <td>1.3</td>\n",
       "      <td>1</td>\n",
       "    </tr>\n",
       "    <tr>\n",
       "      <th>97</th>\n",
       "      <td>98</td>\n",
       "      <td>6.2</td>\n",
       "      <td>2.9</td>\n",
       "      <td>4.3</td>\n",
       "      <td>1.3</td>\n",
       "      <td>1</td>\n",
       "    </tr>\n",
       "    <tr>\n",
       "      <th>98</th>\n",
       "      <td>99</td>\n",
       "      <td>5.1</td>\n",
       "      <td>2.5</td>\n",
       "      <td>3.0</td>\n",
       "      <td>1.1</td>\n",
       "      <td>1</td>\n",
       "    </tr>\n",
       "    <tr>\n",
       "      <th>99</th>\n",
       "      <td>100</td>\n",
       "      <td>5.7</td>\n",
       "      <td>2.8</td>\n",
       "      <td>4.1</td>\n",
       "      <td>1.3</td>\n",
       "      <td>1</td>\n",
       "    </tr>\n",
       "  </tbody>\n",
       "</table>\n",
       "<p>100 rows × 6 columns</p>\n",
       "</div>"
      ],
      "text/plain": [
       "     Id  SepalLengthCm  SepalWidthCm  PetalLengthCm  PetalWidthCm  Species\n",
       "0     1            5.1           3.5            1.4           0.2        0\n",
       "1     2            4.9           3.0            1.4           0.2        0\n",
       "2     3            4.7           3.2            1.3           0.2        0\n",
       "3     4            4.6           3.1            1.5           0.2        0\n",
       "4     5            5.0           3.6            1.4           0.2        0\n",
       "..  ...            ...           ...            ...           ...      ...\n",
       "95   96            5.7           3.0            4.2           1.2        1\n",
       "96   97            5.7           2.9            4.2           1.3        1\n",
       "97   98            6.2           2.9            4.3           1.3        1\n",
       "98   99            5.1           2.5            3.0           1.1        1\n",
       "99  100            5.7           2.8            4.1           1.3        1\n",
       "\n",
       "[100 rows x 6 columns]"
      ]
     },
     "execution_count": 4,
     "metadata": {},
     "output_type": "execute_result"
    }
   ],
   "source": [
    "from sklearn.preprocessing import LabelEncoder\n",
    "le = LabelEncoder()\n",
    "df['Species'] = le.fit_transform(df['Species'])\n",
    "df.head(100)"
   ]
  },
  {
   "cell_type": "code",
   "execution_count": 5,
   "id": "f2f18e2d",
   "metadata": {},
   "outputs": [],
   "source": [
    "from sklearn.model_selection import train_test_split"
   ]
  },
  {
   "cell_type": "code",
   "execution_count": 6,
   "id": "e7957241",
   "metadata": {},
   "outputs": [],
   "source": [
    "X = df.drop(columns = ['Species'])\n",
    "Y = df['Species']\n",
    "X_train, X_test, Y_train, Y_test = train_test_split(X, Y, test_size = 0.20)"
   ]
  },
  {
   "cell_type": "code",
   "execution_count": 7,
   "id": "b61e4dac",
   "metadata": {},
   "outputs": [],
   "source": [
    "X_train=X_train.to_numpy()"
   ]
  },
  {
   "cell_type": "code",
   "execution_count": 8,
   "id": "3bd38a83",
   "metadata": {},
   "outputs": [],
   "source": [
    "X_train=X_train.reshape((X_train.shape[0], X_train.shape[1], 1))"
   ]
  },
  {
   "cell_type": "code",
   "execution_count": 9,
   "id": "22f6f1d3",
   "metadata": {},
   "outputs": [],
   "source": [
    "from keras.models import Sequential\n",
    "from keras.layers import Dense, SimpleRNN"
   ]
  },
  {
   "cell_type": "code",
   "execution_count": 10,
   "id": "f8ed1f3d",
   "metadata": {},
   "outputs": [],
   "source": [
    "model = Sequential()\n",
    "model.add(SimpleRNN(64, input_shape=(5, 1), activation='relu'))\n",
    "model.add(Dense(32, activation='relu'))\n",
    "model.add(Dense(3))\n"
   ]
  },
  {
   "cell_type": "code",
   "execution_count": 11,
   "id": "d9b1a675",
   "metadata": {},
   "outputs": [
    {
     "name": "stdout",
     "output_type": "stream",
     "text": [
      "Epoch 1/50\n",
      "8/8 [==============================] - 1s 4ms/step - loss: 19.0374 - accuracy: 0.2833\n",
      "Epoch 2/50\n",
      "8/8 [==============================] - 0s 3ms/step - loss: 0.5774 - accuracy: 0.0750\n",
      "Epoch 3/50\n",
      "8/8 [==============================] - 0s 2ms/step - loss: 0.1926 - accuracy: 0.2583\n",
      "Epoch 4/50\n",
      "8/8 [==============================] - 0s 2ms/step - loss: 0.0952 - accuracy: 0.4500\n",
      "Epoch 5/50\n",
      "8/8 [==============================] - 0s 2ms/step - loss: 0.0850 - accuracy: 0.5083\n",
      "Epoch 6/50\n",
      "8/8 [==============================] - 0s 2ms/step - loss: 0.0738 - accuracy: 0.3250\n",
      "Epoch 7/50\n",
      "8/8 [==============================] - 0s 2ms/step - loss: 0.0638 - accuracy: 0.3083\n",
      "Epoch 8/50\n",
      "8/8 [==============================] - 0s 2ms/step - loss: 0.0602 - accuracy: 0.5000\n",
      "Epoch 9/50\n",
      "8/8 [==============================] - 0s 2ms/step - loss: 0.0572 - accuracy: 0.4833\n",
      "Epoch 10/50\n",
      "8/8 [==============================] - 0s 2ms/step - loss: 0.0525 - accuracy: 0.6250\n",
      "Epoch 11/50\n",
      "8/8 [==============================] - 0s 2ms/step - loss: 0.0462 - accuracy: 0.4417\n",
      "Epoch 12/50\n",
      "8/8 [==============================] - 0s 2ms/step - loss: 0.0433 - accuracy: 0.5167\n",
      "Epoch 13/50\n",
      "8/8 [==============================] - 0s 2ms/step - loss: 0.0411 - accuracy: 0.5000\n",
      "Epoch 14/50\n",
      "8/8 [==============================] - 0s 3ms/step - loss: 0.0380 - accuracy: 0.4833\n",
      "Epoch 15/50\n",
      "8/8 [==============================] - 0s 2ms/step - loss: 0.0371 - accuracy: 0.4167\n",
      "Epoch 16/50\n",
      "8/8 [==============================] - 0s 2ms/step - loss: 0.0382 - accuracy: 0.5333\n",
      "Epoch 17/50\n",
      "8/8 [==============================] - 0s 2ms/step - loss: 0.0347 - accuracy: 0.4167\n",
      "Epoch 18/50\n",
      "8/8 [==============================] - 0s 2ms/step - loss: 0.0414 - accuracy: 0.4083\n",
      "Epoch 19/50\n",
      "8/8 [==============================] - 0s 2ms/step - loss: 0.0383 - accuracy: 0.4750\n",
      "Epoch 20/50\n",
      "8/8 [==============================] - 0s 2ms/step - loss: 0.0338 - accuracy: 0.4083\n",
      "Epoch 21/50\n",
      "8/8 [==============================] - 0s 2ms/step - loss: 0.0347 - accuracy: 0.4083\n",
      "Epoch 22/50\n",
      "8/8 [==============================] - 0s 2ms/step - loss: 0.0318 - accuracy: 0.5583\n",
      "Epoch 23/50\n",
      "8/8 [==============================] - 0s 2ms/step - loss: 0.0292 - accuracy: 0.4833\n",
      "Epoch 24/50\n",
      "8/8 [==============================] - 0s 2ms/step - loss: 0.0288 - accuracy: 0.4333\n",
      "Epoch 25/50\n",
      "8/8 [==============================] - 0s 2ms/step - loss: 0.0302 - accuracy: 0.4667\n",
      "Epoch 26/50\n",
      "8/8 [==============================] - 0s 2ms/step - loss: 0.0297 - accuracy: 0.4583\n",
      "Epoch 27/50\n",
      "8/8 [==============================] - 0s 3ms/step - loss: 0.0293 - accuracy: 0.4500\n",
      "Epoch 28/50\n",
      "8/8 [==============================] - 0s 3ms/step - loss: 0.0269 - accuracy: 0.4583\n",
      "Epoch 29/50\n",
      "8/8 [==============================] - 0s 2ms/step - loss: 0.0261 - accuracy: 0.4917\n",
      "Epoch 30/50\n",
      "8/8 [==============================] - 0s 3ms/step - loss: 0.0253 - accuracy: 0.4833\n",
      "Epoch 31/50\n",
      "8/8 [==============================] - 0s 2ms/step - loss: 0.0262 - accuracy: 0.4667\n",
      "Epoch 32/50\n",
      "8/8 [==============================] - 0s 2ms/step - loss: 0.0304 - accuracy: 0.5167\n",
      "Epoch 33/50\n",
      "8/8 [==============================] - 0s 2ms/step - loss: 0.0321 - accuracy: 0.3833\n",
      "Epoch 34/50\n",
      "8/8 [==============================] - 0s 2ms/step - loss: 0.0401 - accuracy: 0.3083\n",
      "Epoch 35/50\n",
      "8/8 [==============================] - 0s 2ms/step - loss: 0.0540 - accuracy: 0.4417\n",
      "Epoch 36/50\n",
      "8/8 [==============================] - 0s 2ms/step - loss: 0.0332 - accuracy: 0.5250\n",
      "Epoch 37/50\n",
      "8/8 [==============================] - 0s 2ms/step - loss: 0.0297 - accuracy: 0.4417\n",
      "Epoch 38/50\n",
      "8/8 [==============================] - 0s 2ms/step - loss: 0.0252 - accuracy: 0.4500\n",
      "Epoch 39/50\n",
      "8/8 [==============================] - 0s 2ms/step - loss: 0.0271 - accuracy: 0.5000\n",
      "Epoch 40/50\n",
      "8/8 [==============================] - 0s 2ms/step - loss: 0.0271 - accuracy: 0.4583\n",
      "Epoch 41/50\n",
      "8/8 [==============================] - 0s 2ms/step - loss: 0.0309 - accuracy: 0.5083\n",
      "Epoch 42/50\n",
      "8/8 [==============================] - 0s 2ms/step - loss: 0.0283 - accuracy: 0.4833\n",
      "Epoch 43/50\n",
      "8/8 [==============================] - 0s 2ms/step - loss: 0.0317 - accuracy: 0.4667\n",
      "Epoch 44/50\n",
      "8/8 [==============================] - 0s 2ms/step - loss: 0.0270 - accuracy: 0.4917\n",
      "Epoch 45/50\n",
      "8/8 [==============================] - 0s 2ms/step - loss: 0.0270 - accuracy: 0.4917\n",
      "Epoch 46/50\n",
      "8/8 [==============================] - 0s 2ms/step - loss: 0.0257 - accuracy: 0.4667\n",
      "Epoch 47/50\n",
      "8/8 [==============================] - 0s 2ms/step - loss: 0.0295 - accuracy: 0.4583\n",
      "Epoch 48/50\n",
      "8/8 [==============================] - 0s 3ms/step - loss: 0.0251 - accuracy: 0.4833\n",
      "Epoch 49/50\n",
      "8/8 [==============================] - 0s 2ms/step - loss: 0.0298 - accuracy: 0.4083\n",
      "Epoch 50/50\n",
      "8/8 [==============================] - 0s 2ms/step - loss: 0.0285 - accuracy: 0.4917\n"
     ]
    }
   ],
   "source": [
    "model.compile(loss='mean_squared_error', optimizer='adam', metrics=['accuracy'])\n",
    "\n",
    "# Train the model on the training data\n",
    "history=model.fit(X_train, Y_train, epochs=50, batch_size=16)"
   ]
  },
  {
   "cell_type": "code",
   "execution_count": 12,
   "id": "0950c2a3",
   "metadata": {},
   "outputs": [],
   "source": [
    "X_test=X_test.to_numpy()\n",
    "X_test=X_test.reshape((X_test.shape[0], X_test.shape[1], 1))"
   ]
  },
  {
   "cell_type": "code",
   "execution_count": 13,
   "id": "f0738046",
   "metadata": {},
   "outputs": [],
   "source": [
    "maoo=model.predict(X_test)"
   ]
  },
  {
   "cell_type": "code",
   "execution_count": 14,
   "id": "e950fb50",
   "metadata": {},
   "outputs": [
    {
     "data": {
      "text/plain": [
       "array([[ 1.1942617e+00,  1.2290772e+00,  1.1982167e+00],\n",
       "       [ 7.5306571e-01,  7.8219330e-01,  7.6047945e-01],\n",
       "       [ 1.1076292e+00,  1.1422882e+00,  1.1162536e+00],\n",
       "       [ 1.2161500e-03, -6.5529197e-03, -4.6553090e-03],\n",
       "       [ 1.7400824e+00,  1.7665298e+00,  1.7438751e+00],\n",
       "       [ 1.8941315e+00,  1.9028220e+00,  1.9235960e+00],\n",
       "       [ 2.8804457e-03,  3.7222207e-03,  1.4387604e-02],\n",
       "       [ 1.9104120e+00,  1.9217510e+00,  1.9349912e+00],\n",
       "       [ 8.1409252e-01,  7.1361840e-01,  8.8042849e-01],\n",
       "       [ 1.2236588e+00,  1.2644773e+00,  1.2322576e+00],\n",
       "       [ 1.6848072e+00,  1.7028447e+00,  1.7189311e+00],\n",
       "       [ 1.8540459e+00,  1.8836251e+00,  1.8711240e+00],\n",
       "       [ 1.7253624e+00,  1.7391298e+00,  1.7494431e+00],\n",
       "       [ 6.9911885e-01,  7.2794235e-01,  6.9035035e-01],\n",
       "       [ 1.7574202e+00,  1.7762648e+00,  1.8114693e+00],\n",
       "       [ 1.8367646e+00,  1.8615279e+00,  1.8642721e+00],\n",
       "       [ 1.0098240e-02,  5.1249146e-02,  5.2181508e-02],\n",
       "       [ 2.3637032e-03,  1.6885698e-02,  1.5517272e-02],\n",
       "       [-1.5609362e-02, -2.5696963e-02, -1.0080509e-02],\n",
       "       [ 1.7575268e+00,  1.7567309e+00,  1.8001212e+00],\n",
       "       [ 9.7518921e-01,  9.7452235e-01,  9.8669428e-01],\n",
       "       [ 1.4565534e-02,  1.5099555e-02, -1.5577737e-02],\n",
       "       [ 1.0269932e+00,  1.0646590e+00,  1.0237801e+00],\n",
       "       [ 1.7864238e+00,  1.7844106e+00,  1.8200679e+00],\n",
       "       [ 1.6769050e+00,  1.6853760e+00,  1.7057886e+00],\n",
       "       [ 1.2439678e+00,  1.2739447e+00,  1.2557716e+00],\n",
       "       [ 1.9319147e+00,  1.9243361e+00,  1.9858112e+00],\n",
       "       [ 8.9021766e-01,  9.2509305e-01,  9.0036887e-01],\n",
       "       [ 2.7298503e-02,  6.0527414e-02, -6.1933212e-03],\n",
       "       [ 2.5285073e-02,  5.2324921e-02, -2.4105050e-03]], dtype=float32)"
      ]
     },
     "execution_count": 14,
     "metadata": {},
     "output_type": "execute_result"
    }
   ],
   "source": [
    "maoo"
   ]
  },
  {
   "cell_type": "code",
   "execution_count": 15,
   "id": "47e07879",
   "metadata": {},
   "outputs": [
    {
     "data": {
      "text/plain": [
       "95     1\n",
       "64     1\n",
       "88     1\n",
       "48     0\n",
       "119    2\n",
       "128    2\n",
       "11     0\n",
       "137    2\n",
       "50     1\n",
       "97     1\n",
       "123    2\n",
       "129    2\n",
       "108    2\n",
       "57     1\n",
       "120    2\n",
       "125    2\n",
       "23     0\n",
       "43     0\n",
       "28     0\n",
       "105    2\n",
       "66     1\n",
       "37     0\n",
       "80     1\n",
       "138    2\n",
       "113    2\n",
       "99     1\n",
       "145    2\n",
       "71     1\n",
       "47     0\n",
       "45     0\n",
       "Name: Species, dtype: int32"
      ]
     },
     "execution_count": 15,
     "metadata": {},
     "output_type": "execute_result"
    }
   ],
   "source": [
    "Y_test"
   ]
  },
  {
   "cell_type": "code",
   "execution_count": 16,
   "id": "a39830c8",
   "metadata": {},
   "outputs": [],
   "source": [
    "from matplotlib import pyplot"
   ]
  },
  {
   "cell_type": "code",
   "execution_count": 17,
   "id": "584d82c9",
   "metadata": {},
   "outputs": [
    {
     "data": {
      "text/plain": [
       "[<matplotlib.lines.Line2D at 0x23b94b69470>]"
      ]
     },
     "execution_count": 17,
     "metadata": {},
     "output_type": "execute_result"
    },
    {
     "data": {
      "image/png": "[encoded data removed]",
      "text/plain": [
       "<Figure size 432x288 with 1 Axes>"
      ]
     },
     "metadata": {
      "needs_background": "light"
     },
     "output_type": "display_data"
    }
   ],
   "source": [
    "pyplot.plot(history.history['accuracy'])"
   ]
  },
  {
   "cell_type": "code",
   "execution_count": 18,
   "id": "a21c1667",
   "metadata": {},
   "outputs": [],
   "source": [
    "y_pred_bool = np.argmax(maoo, axis=1)"
   ]
  },
  {
   "cell_type": "code",
   "execution_count": 19,
   "id": "21db1b92",
   "metadata": {},
   "outputs": [
    {
     "data": {
      "text/plain": [
       "array([1, 1, 1, 0, 1, 2, 2, 2, 2, 1, 2, 1, 2, 1, 2, 2, 2, 1, 2, 2, 2, 1,\n",
       "       1, 2, 2, 1, 2, 1, 1, 1], dtype=int64)"
      ]
     },
     "execution_count": 19,
     "metadata": {},
     "output_type": "execute_result"
    }
   ],
   "source": [
    "y_pred_bool"
   ]
  },
  {
   "cell_type": "code",
   "execution_count": 20,
   "id": "4f4df553",
   "metadata": {},
   "outputs": [],
   "source": [
    "from sklearn.metrics import classification_report, confusion_matrix"
   ]
  },
  {
   "cell_type": "code",
   "execution_count": 21,
   "id": "fb6f1355",
   "metadata": {},
   "outputs": [
    {
     "name": "stdout",
     "output_type": "stream",
     "text": [
      "              precision    recall  f1-score   support\n",
      "\n",
      "           0       1.00      0.12      0.22         8\n",
      "           1       0.57      0.80      0.67        10\n",
      "           2       0.67      0.83      0.74        12\n",
      "\n",
      "    accuracy                           0.63        30\n",
      "   macro avg       0.75      0.59      0.54        30\n",
      "weighted avg       0.72      0.63      0.58        30\n",
      "\n"
     ]
    }
   ],
   "source": [
    "print(classification_report(Y_test, y_pred_bool))"
   ]
  },
  {
   "cell_type": "code",
   "execution_count": null,
   "id": "1349fe31",
   "metadata": {},
   "outputs": [],
   "source": []
  }
 ],
 "metadata": {
  "kernelspec": {
   "display_name": "Python 3",
   "language": "python",
   "name": "python3"
  },
  "language_info": {
   "codemirror_mode": {
    "name": "ipython",
    "version": 3
   },
   "file_extension": ".py",
   "mimetype": "text/x-python",
   "name": "python",
   "nbconvert_exporter": "python",
   "pygments_lexer": "ipython3",
   "version": "3.6.15"
  }
 },
 "nbformat": 4,
 "nbformat_minor": 5
}
