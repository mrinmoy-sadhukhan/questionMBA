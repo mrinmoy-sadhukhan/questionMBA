{
 "cells": [
  {
   "cell_type": "markdown",
   "id": "a8114044",
   "metadata": {},
   "source": [
    "Question 1: Consider the iris data file seeds.csv. \n",
    "A. Import the file to python\n",
    "B. Perform pre processing\n",
    "C. Divide the data set in 80% training and 20% testing\n",
    "D. Select the RNN Neural Network\n",
    "E. Perform the training of the model\n",
    "F. Test the model with test data\n",
    "G. Evaluate the performance of your model\n"
   ]
  },
  {
   "cell_type": "code",
   "execution_count": 35,
   "id": "f09a342b",
   "metadata": {},
   "outputs": [],
   "source": [
    "import pandas as pd\n",
    "# used to read the data set\n",
    "import numpy as np\n",
    "# used to do some operations with the arrays\n",
    "import os\n",
    "# used handle some files\n"
   ]
  },
  {
   "cell_type": "code",
   "execution_count": 36,
   "id": "9b068d8f",
   "metadata": {},
   "outputs": [],
   "source": [
    "df = pd.read_csv(\"Iris.csv\")"
   ]
  },
  {
   "cell_type": "code",
   "execution_count": 37,
   "id": "da9d1c2a",
   "metadata": {},
   "outputs": [],
   "source": [
    "df = pd.read_csv(\"Iris.csv\")"
   ]
  },
  {
   "cell_type": "code",
   "execution_count": 38,
   "id": "243db683",
   "metadata": {},
   "outputs": [
    {
     "data": {
      "text/html": [
       "<div>\n",
       "<style scoped>\n",
       "    .dataframe tbody tr th:only-of-type {\n",
       "        vertical-align: middle;\n",
       "    }\n",
       "\n",
       "    .dataframe tbody tr th {\n",
       "        vertical-align: top;\n",
       "    }\n",
       "\n",
       "    .dataframe thead th {\n",
       "        text-align: right;\n",
       "    }\n",
       "</style>\n",
       "<table border=\"1\" class=\"dataframe\">\n",
       "  <thead>\n",
       "    <tr style=\"text-align: right;\">\n",
       "      <th></th>\n",
       "      <th>Id</th>\n",
       "      <th>SepalLengthCm</th>\n",
       "      <th>SepalWidthCm</th>\n",
       "      <th>PetalLengthCm</th>\n",
       "      <th>PetalWidthCm</th>\n",
       "      <th>Species</th>\n",
       "    </tr>\n",
       "  </thead>\n",
       "  <tbody>\n",
       "    <tr>\n",
       "      <th>0</th>\n",
       "      <td>1</td>\n",
       "      <td>5.1</td>\n",
       "      <td>3.5</td>\n",
       "      <td>1.4</td>\n",
       "      <td>0.2</td>\n",
       "      <td>0</td>\n",
       "    </tr>\n",
       "    <tr>\n",
       "      <th>1</th>\n",
       "      <td>2</td>\n",
       "      <td>4.9</td>\n",
       "      <td>3.0</td>\n",
       "      <td>1.4</td>\n",
       "      <td>0.2</td>\n",
       "      <td>0</td>\n",
       "    </tr>\n",
       "    <tr>\n",
       "      <th>2</th>\n",
       "      <td>3</td>\n",
       "      <td>4.7</td>\n",
       "      <td>3.2</td>\n",
       "      <td>1.3</td>\n",
       "      <td>0.2</td>\n",
       "      <td>0</td>\n",
       "    </tr>\n",
       "    <tr>\n",
       "      <th>3</th>\n",
       "      <td>4</td>\n",
       "      <td>4.6</td>\n",
       "      <td>3.1</td>\n",
       "      <td>1.5</td>\n",
       "      <td>0.2</td>\n",
       "      <td>0</td>\n",
       "    </tr>\n",
       "    <tr>\n",
       "      <th>4</th>\n",
       "      <td>5</td>\n",
       "      <td>5.0</td>\n",
       "      <td>3.6</td>\n",
       "      <td>1.4</td>\n",
       "      <td>0.2</td>\n",
       "      <td>0</td>\n",
       "    </tr>\n",
       "    <tr>\n",
       "      <th>...</th>\n",
       "      <td>...</td>\n",
       "      <td>...</td>\n",
       "      <td>...</td>\n",
       "      <td>...</td>\n",
       "      <td>...</td>\n",
       "      <td>...</td>\n",
       "    </tr>\n",
       "    <tr>\n",
       "      <th>95</th>\n",
       "      <td>96</td>\n",
       "      <td>5.7</td>\n",
       "      <td>3.0</td>\n",
       "      <td>4.2</td>\n",
       "      <td>1.2</td>\n",
       "      <td>1</td>\n",
       "    </tr>\n",
       "    <tr>\n",
       "      <th>96</th>\n",
       "      <td>97</td>\n",
       "      <td>5.7</td>\n",
       "      <td>2.9</td>\n",
       "      <td>4.2</td>\n",
       "      <td>1.3</td>\n",
       "      <td>1</td>\n",
       "    </tr>\n",
       "    <tr>\n",
       "      <th>97</th>\n",
       "      <td>98</td>\n",
       "      <td>6.2</td>\n",
       "      <td>2.9</td>\n",
       "      <td>4.3</td>\n",
       "      <td>1.3</td>\n",
       "      <td>1</td>\n",
       "    </tr>\n",
       "    <tr>\n",
       "      <th>98</th>\n",
       "      <td>99</td>\n",
       "      <td>5.1</td>\n",
       "      <td>2.5</td>\n",
       "      <td>3.0</td>\n",
       "      <td>1.1</td>\n",
       "      <td>1</td>\n",
       "    </tr>\n",
       "    <tr>\n",
       "      <th>99</th>\n",
       "      <td>100</td>\n",
       "      <td>5.7</td>\n",
       "      <td>2.8</td>\n",
       "      <td>4.1</td>\n",
       "      <td>1.3</td>\n",
       "      <td>1</td>\n",
       "    </tr>\n",
       "  </tbody>\n",
       "</table>\n",
       "<p>100 rows × 6 columns</p>\n",
       "</div>"
      ],
      "text/plain": [
       "     Id  SepalLengthCm  SepalWidthCm  PetalLengthCm  PetalWidthCm  Species\n",
       "0     1            5.1           3.5            1.4           0.2        0\n",
       "1     2            4.9           3.0            1.4           0.2        0\n",
       "2     3            4.7           3.2            1.3           0.2        0\n",
       "3     4            4.6           3.1            1.5           0.2        0\n",
       "4     5            5.0           3.6            1.4           0.2        0\n",
       "..  ...            ...           ...            ...           ...      ...\n",
       "95   96            5.7           3.0            4.2           1.2        1\n",
       "96   97            5.7           2.9            4.2           1.3        1\n",
       "97   98            6.2           2.9            4.3           1.3        1\n",
       "98   99            5.1           2.5            3.0           1.1        1\n",
       "99  100            5.7           2.8            4.1           1.3        1\n",
       "\n",
       "[100 rows x 6 columns]"
      ]
     },
     "execution_count": 38,
     "metadata": {},
     "output_type": "execute_result"
    }
   ],
   "source": [
    "from sklearn.preprocessing import LabelEncoder\n",
    "le = LabelEncoder()\n",
    "df['Species'] = le.fit_transform(df['Species'])\n",
    "df.head(100)"
   ]
  },
  {
   "cell_type": "code",
   "execution_count": 39,
   "id": "f2f18e2d",
   "metadata": {},
   "outputs": [],
   "source": [
    "from sklearn.model_selection import train_test_split"
   ]
  },
  {
   "cell_type": "code",
   "execution_count": 40,
   "id": "e7957241",
   "metadata": {},
   "outputs": [],
   "source": [
    "X = df.drop(columns = ['Species'])\n",
    "Y = df['Species']\n",
    "X_train, X_test, Y_train, Y_test = train_test_split(X, Y, test_size = 0.20)"
   ]
  },
  {
   "cell_type": "code",
   "execution_count": 41,
   "id": "b61e4dac",
   "metadata": {},
   "outputs": [],
   "source": [
    "X_train=X_train.to_numpy()"
   ]
  },
  {
   "cell_type": "code",
   "execution_count": 42,
   "id": "3bd38a83",
   "metadata": {},
   "outputs": [],
   "source": [
    "X_train=X_train.reshape((X_train.shape[0], X_train.shape[1], 1))"
   ]
  },
  {
   "cell_type": "code",
   "execution_count": 43,
   "id": "22f6f1d3",
   "metadata": {},
   "outputs": [],
   "source": [
    "from keras.models import Sequential\n",
    "from keras.layers import Dense, SimpleRNN"
   ]
  },
  {
   "cell_type": "code",
   "execution_count": 44,
   "id": "f8ed1f3d",
   "metadata": {},
   "outputs": [],
   "source": [
    "model = Sequential()\n",
    "model.add(SimpleRNN(64, input_shape=(5, 1), activation='relu'))\n",
    "model.add(Dense(32, activation='relu'))\n",
    "model.add(Dense(3))\n"
   ]
  },
  {
   "cell_type": "code",
   "execution_count": 45,
   "id": "d9b1a675",
   "metadata": {},
   "outputs": [
    {
     "name": "stdout",
     "output_type": "stream",
     "text": [
      "Epoch 1/50\n",
      "8/8 [==============================] - 1s 2ms/step - loss: 1.4374 - accuracy: 0.4417\n",
      "Epoch 2/50\n",
      "8/8 [==============================] - 0s 2ms/step - loss: 0.2722 - accuracy: 0.6583\n",
      "Epoch 3/50\n",
      "8/8 [==============================] - 0s 3ms/step - loss: 0.1832 - accuracy: 0.3333\n",
      "Epoch 4/50\n",
      "8/8 [==============================] - 0s 3ms/step - loss: 0.1228 - accuracy: 0.6583\n",
      "Epoch 5/50\n",
      "8/8 [==============================] - 0s 3ms/step - loss: 0.1010 - accuracy: 0.6333\n",
      "Epoch 6/50\n",
      "8/8 [==============================] - 0s 3ms/step - loss: 0.0867 - accuracy: 0.3833\n",
      "Epoch 7/50\n",
      "8/8 [==============================] - 0s 3ms/step - loss: 0.0833 - accuracy: 0.5250\n",
      "Epoch 8/50\n",
      "8/8 [==============================] - 0s 3ms/step - loss: 0.0663 - accuracy: 0.4000\n",
      "Epoch 9/50\n",
      "8/8 [==============================] - 0s 3ms/step - loss: 0.0614 - accuracy: 0.3833\n",
      "Epoch 10/50\n",
      "8/8 [==============================] - 0s 3ms/step - loss: 0.0576 - accuracy: 0.3417\n",
      "Epoch 11/50\n",
      "8/8 [==============================] - 0s 3ms/step - loss: 0.0542 - accuracy: 0.3333\n",
      "Epoch 12/50\n",
      "8/8 [==============================] - 0s 3ms/step - loss: 0.0522 - accuracy: 0.3667\n",
      "Epoch 13/50\n",
      "8/8 [==============================] - 0s 3ms/step - loss: 0.0495 - accuracy: 0.3750\n",
      "Epoch 14/50\n",
      "8/8 [==============================] - 0s 3ms/step - loss: 0.0475 - accuracy: 0.4083\n",
      "Epoch 15/50\n",
      "8/8 [==============================] - 0s 3ms/step - loss: 0.0461 - accuracy: 0.3750\n",
      "Epoch 16/50\n",
      "8/8 [==============================] - 0s 3ms/step - loss: 0.0419 - accuracy: 0.3667\n",
      "Epoch 17/50\n",
      "8/8 [==============================] - 0s 3ms/step - loss: 0.0453 - accuracy: 0.4417\n",
      "Epoch 18/50\n",
      "8/8 [==============================] - 0s 3ms/step - loss: 0.0423 - accuracy: 0.3833\n",
      "Epoch 19/50\n",
      "8/8 [==============================] - 0s 3ms/step - loss: 0.0394 - accuracy: 0.3167\n",
      "Epoch 20/50\n",
      "8/8 [==============================] - 0s 3ms/step - loss: 0.0401 - accuracy: 0.4083\n",
      "Epoch 21/50\n",
      "8/8 [==============================] - 0s 2ms/step - loss: 0.0381 - accuracy: 0.4500\n",
      "Epoch 22/50\n",
      "8/8 [==============================] - 0s 3ms/step - loss: 0.0374 - accuracy: 0.4750\n",
      "Epoch 23/50\n",
      "8/8 [==============================] - 0s 3ms/step - loss: 0.0363 - accuracy: 0.2750\n",
      "Epoch 24/50\n",
      "8/8 [==============================] - 0s 3ms/step - loss: 0.0393 - accuracy: 0.3500\n",
      "Epoch 25/50\n",
      "8/8 [==============================] - 0s 6ms/step - loss: 0.0345 - accuracy: 0.3333\n",
      "Epoch 26/50\n",
      "8/8 [==============================] - 0s 3ms/step - loss: 0.0327 - accuracy: 0.3167\n",
      "Epoch 27/50\n",
      "8/8 [==============================] - 0s 3ms/step - loss: 0.0315 - accuracy: 0.2917\n",
      "Epoch 28/50\n",
      "8/8 [==============================] - 0s 3ms/step - loss: 0.0298 - accuracy: 0.2583\n",
      "Epoch 29/50\n",
      "8/8 [==============================] - 0s 3ms/step - loss: 0.0358 - accuracy: 0.3167\n",
      "Epoch 30/50\n",
      "8/8 [==============================] - 0s 3ms/step - loss: 0.0318 - accuracy: 0.3167\n",
      "Epoch 31/50\n",
      "8/8 [==============================] - 0s 4ms/step - loss: 0.0317 - accuracy: 0.2333\n",
      "Epoch 32/50\n",
      "8/8 [==============================] - 0s 3ms/step - loss: 0.0273 - accuracy: 0.2333\n",
      "Epoch 33/50\n",
      "8/8 [==============================] - 0s 3ms/step - loss: 0.0245 - accuracy: 0.2917\n",
      "Epoch 34/50\n",
      "8/8 [==============================] - 0s 3ms/step - loss: 0.0264 - accuracy: 0.3333\n",
      "Epoch 35/50\n",
      "8/8 [==============================] - 0s 3ms/step - loss: 0.0281 - accuracy: 0.3250\n",
      "Epoch 36/50\n",
      "8/8 [==============================] - 0s 3ms/step - loss: 0.0273 - accuracy: 0.2500\n",
      "Epoch 37/50\n",
      "8/8 [==============================] - 0s 3ms/step - loss: 0.0271 - accuracy: 0.1667\n",
      "Epoch 38/50\n",
      "8/8 [==============================] - 0s 3ms/step - loss: 0.0264 - accuracy: 0.2250\n",
      "Epoch 39/50\n",
      "8/8 [==============================] - 0s 3ms/step - loss: 0.0361 - accuracy: 0.2417\n",
      "Epoch 40/50\n",
      "8/8 [==============================] - 0s 3ms/step - loss: 0.0360 - accuracy: 0.2917\n",
      "Epoch 41/50\n",
      "8/8 [==============================] - 0s 3ms/step - loss: 0.0558 - accuracy: 0.1917\n",
      "Epoch 42/50\n",
      "8/8 [==============================] - 0s 3ms/step - loss: 0.0606 - accuracy: 0.2167\n",
      "Epoch 43/50\n",
      "8/8 [==============================] - 0s 3ms/step - loss: 0.0695 - accuracy: 0.2167\n",
      "Epoch 44/50\n",
      "8/8 [==============================] - 0s 3ms/step - loss: 0.0463 - accuracy: 0.2667\n",
      "Epoch 45/50\n",
      "8/8 [==============================] - 0s 3ms/step - loss: 0.0339 - accuracy: 0.1333\n",
      "Epoch 46/50\n",
      "8/8 [==============================] - 0s 3ms/step - loss: 0.0356 - accuracy: 0.3250\n",
      "Epoch 47/50\n",
      "8/8 [==============================] - 0s 3ms/step - loss: 0.0348 - accuracy: 0.1667\n",
      "Epoch 48/50\n",
      "8/8 [==============================] - 0s 3ms/step - loss: 0.0271 - accuracy: 0.1750\n",
      "Epoch 49/50\n",
      "8/8 [==============================] - 0s 3ms/step - loss: 0.0285 - accuracy: 0.1667\n",
      "Epoch 50/50\n",
      "8/8 [==============================] - 0s 3ms/step - loss: 0.0254 - accuracy: 0.1500\n"
     ]
    }
   ],
   "source": [
    "model.compile(loss='mean_squared_error', optimizer='adam', metrics=['accuracy'])\n",
    "\n",
    "# Train the model on the training data\n",
    "history=model.fit(X_train, Y_train, epochs=50, batch_size=16)"
   ]
  },
  {
   "cell_type": "code",
   "execution_count": 46,
   "id": "0950c2a3",
   "metadata": {},
   "outputs": [],
   "source": [
    "X_test=X_test.to_numpy()\n",
    "X_test=X_test.reshape((X_test.shape[0], X_test.shape[1], 1))"
   ]
  },
  {
   "cell_type": "code",
   "execution_count": 47,
   "id": "f0738046",
   "metadata": {},
   "outputs": [],
   "source": [
    "maoo=model.predict(X_test)"
   ]
  },
  {
   "cell_type": "code",
   "execution_count": 48,
   "id": "e950fb50",
   "metadata": {},
   "outputs": [
    {
     "data": {
      "text/plain": [
       "array([[ 1.1280464e+00,  1.0558233e+00,  1.0524260e+00],\n",
       "       [ 1.9820625e+00,  1.9131584e+00,  1.9226919e+00],\n",
       "       [ 2.1372738e+00,  2.1766584e+00,  2.1664903e+00],\n",
       "       [ 1.2646478e+00,  1.1963556e+00,  1.1937845e+00],\n",
       "       [-1.9605029e-02, -1.2113067e-02,  1.1801921e-02],\n",
       "       [ 2.0984647e+00,  2.1049535e+00,  2.1167860e+00],\n",
       "       [ 3.5042339e-03, -3.6750203e-03, -3.3401474e-03],\n",
       "       [-3.0430532e-03, -1.5323008e-02, -2.9246204e-02],\n",
       "       [ 2.1444428e+00,  2.1346285e+00,  2.1389329e+00],\n",
       "       [ 1.9805454e+00,  1.9681184e+00,  1.9679490e+00],\n",
       "       [ 1.6312746e+00,  1.6368632e+00,  1.6277742e+00],\n",
       "       [-1.0649320e-02, -3.1628404e-02,  9.4225593e-03],\n",
       "       [ 3.4015555e-02, -7.9740537e-03, -1.4349364e-02],\n",
       "       [-2.0335114e-02, -1.2069925e-02,  1.7479643e-02],\n",
       "       [ 2.0318782e+00,  2.0692511e+00,  2.0935571e+00],\n",
       "       [ 1.2049313e+00,  1.1363002e+00,  1.1250186e+00],\n",
       "       [ 2.0303173e+00,  2.0210872e+00,  2.0485752e+00],\n",
       "       [-2.5774537e-02, -6.1435457e-02,  1.3133332e-02],\n",
       "       [ 1.9856137e+00,  1.9747106e+00,  1.9926559e+00],\n",
       "       [ 1.9535012e+00,  1.9929760e+00,  2.0169930e+00],\n",
       "       [ 1.8045338e+00,  1.7258271e+00,  1.7412077e+00],\n",
       "       [ 1.6453730e-02, -2.4780765e-02, -1.7794222e-04],\n",
       "       [ 8.8148797e-01,  9.1527414e-01,  8.7837303e-01],\n",
       "       [-3.2644360e-03,  2.3476969e-02,  1.1672534e-02],\n",
       "       [ 1.0214013e+00,  9.7105920e-01,  9.8125309e-01],\n",
       "       [ 1.0696535e+00,  9.9870753e-01,  1.0276653e+00],\n",
       "       [ 1.3403709e+00,  1.2518845e+00,  1.2543426e+00],\n",
       "       [-2.2178603e-02, -2.7472179e-02, -4.1726492e-02],\n",
       "       [ 1.6897532e+00,  1.6743290e+00,  1.6546144e+00],\n",
       "       [-1.3369253e-02, -5.0884737e-03,  6.8399534e-03]], dtype=float32)"
      ]
     },
     "execution_count": 48,
     "metadata": {},
     "output_type": "execute_result"
    }
   ],
   "source": [
    "maoo"
   ]
  },
  {
   "cell_type": "code",
   "execution_count": 49,
   "id": "47e07879",
   "metadata": {},
   "outputs": [
    {
     "data": {
      "text/plain": [
       "82     1\n",
       "137    2\n",
       "118    2\n",
       "89     1\n",
       "6      0\n",
       "135    2\n",
       "10     0\n",
       "40     0\n",
       "143    2\n",
       "128    2\n",
       "110    2\n",
       "1      0\n",
       "42     0\n",
       "7      0\n",
       "145    2\n",
       "88     1\n",
       "147    2\n",
       "0      0\n",
       "139    2\n",
       "141    2\n",
       "119    2\n",
       "12     0\n",
       "52     1\n",
       "16     0\n",
       "71     1\n",
       "66     1\n",
       "99     1\n",
       "36     0\n",
       "103    2\n",
       "19     0\n",
       "Name: Species, dtype: int32"
      ]
     },
     "execution_count": 49,
     "metadata": {},
     "output_type": "execute_result"
    }
   ],
   "source": [
    "Y_test"
   ]
  },
  {
   "cell_type": "code",
   "execution_count": 50,
   "id": "a39830c8",
   "metadata": {},
   "outputs": [],
   "source": [
    "from matplotlib import pyplot"
   ]
  },
  {
   "cell_type": "code",
   "execution_count": 51,
   "id": "584d82c9",
   "metadata": {},
   "outputs": [
    {
     "data": {
      "text/plain": [
       "[<matplotlib.lines.Line2D at 0x2035bfd05f8>]"
      ]
     },
     "execution_count": 51,
     "metadata": {},
     "output_type": "execute_result"
    },
    {
     "data": {
      "image/png": "[encoded data removed]",
      "text/plain": [
       "<Figure size 432x288 with 1 Axes>"
      ]
     },
     "metadata": {
      "needs_background": "light"
     },
     "output_type": "display_data"
    }
   ],
   "source": [
    "pyplot.plot(history.history['accuracy'])"
   ]
  },
  {
   "cell_type": "code",
   "execution_count": 52,
   "id": "a21c1667",
   "metadata": {},
   "outputs": [],
   "source": [
    "y_pred_bool = np.argmax(maoo, axis=1)"
   ]
  },
  {
   "cell_type": "code",
   "execution_count": 53,
   "id": "21db1b92",
   "metadata": {},
   "outputs": [
    {
     "data": {
      "text/plain": [
       "array([0, 0, 1, 0, 2, 2, 0, 0, 0, 0, 1, 2, 0, 2, 2, 0, 2, 2, 2, 2, 0, 0,\n",
       "       1, 1, 0, 0, 0, 0, 0, 2], dtype=int64)"
      ]
     },
     "execution_count": 53,
     "metadata": {},
     "output_type": "execute_result"
    }
   ],
   "source": [
    "y_pred_bool"
   ]
  },
  {
   "cell_type": "code",
   "execution_count": 54,
   "id": "4f4df553",
   "metadata": {},
   "outputs": [],
   "source": [
    "from sklearn.metrics import classification_report, confusion_matrix"
   ]
  },
  {
   "cell_type": "code",
   "execution_count": 55,
   "id": "fb6f1355",
   "metadata": {},
   "outputs": [
    {
     "name": "stdout",
     "output_type": "stream",
     "text": [
      "              precision    recall  f1-score   support\n",
      "\n",
      "           0       0.31      0.45      0.37        11\n",
      "           1       0.25      0.14      0.18         7\n",
      "           2       0.50      0.42      0.45        12\n",
      "\n",
      "    accuracy                           0.37        30\n",
      "   macro avg       0.35      0.34      0.34        30\n",
      "weighted avg       0.37      0.37      0.36        30\n",
      "\n"
     ]
    }
   ],
   "source": [
    "print(classification_report(Y_test, y_pred_bool))"
   ]
  },
  {
   "cell_type": "code",
   "execution_count": null,
   "id": "1349fe31",
   "metadata": {},
   "outputs": [],
   "source": []
  }
 ],
 "metadata": {
  "kernelspec": {
   "display_name": "Python 3",
   "language": "python",
   "name": "python3"
  },
  "language_info": {
   "codemirror_mode": {
    "name": "ipython",
    "version": 3
   },
   "file_extension": ".py",
   "mimetype": "text/x-python",
   "name": "python",
   "nbconvert_exporter": "python",
   "pygments_lexer": "ipython3",
   "version": "3.6.15"
  }
 },
 "nbformat": 4,
 "nbformat_minor": 5
}
